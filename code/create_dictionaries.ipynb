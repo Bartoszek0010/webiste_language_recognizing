{
 "cells": [
  {
   "cell_type": "code",
   "execution_count": 1,
   "metadata": {},
   "outputs": [],
   "source": [
    "import numpy as np\n",
    "import re"
   ]
  },
  {
   "cell_type": "code",
   "execution_count": 2,
   "metadata": {},
   "outputs": [],
   "source": [
    "language_dictionary = \"/Users/bjastrzebs002/Desktop/programming/Language_Recognizing_PO/languages/\"\n",
    "polish = open(language_dictionary + \"polski.txt\", \"r\").read()\n",
    "english = open(language_dictionary + \"english.txt\", \"r\").read()\n",
    "italian = open(language_dictionary + \"italian.txt\", \"r\").read()\n",
    "#german = open(language_dictionary + \"german.txt\", \"r\").read()\n",
    "spanish = open(language_dictionary + \"spanish.txt\", \"r\").read()\n"
   ]
  },
  {
   "cell_type": "code",
   "execution_count": 6,
   "metadata": {},
   "outputs": [],
   "source": [
    "def create_dictionary_unigram(language):\n",
    "    # function of creating dictionary of unigrams\n",
    "    #print(\"unigrams\")\n",
    "    language = re.sub(\"[^\\w]\", \" \",  language.lower()).split()\n",
    "    language_dict = {}\n",
    "    for i in language:\n",
    "        if i not in language_dict:\n",
    "            language_dict[i] = 1\n",
    "        else:\n",
    "            language_dict[i] = language_dict[i] + 1\n",
    "    return language_dict\n",
    "\n",
    "def create_dictionary_bigram(language):\n",
    "    # function of creating dictionary of bigrams\n",
    "    #print(\"bigrams\")\n",
    "    language = re.sub(\"[^\\w]\", \" \",  language.lower()).split()\n",
    "    language_dict = {}\n",
    "    for i in range(len(language) - 1):\n",
    "        bigram = language[i] + ' ' + language[i + 1]\n",
    "        if bigram not in language_dict:\n",
    "            language_dict[bigram] = 1\n",
    "        else:\n",
    "            language_dict[bigram] = language_dict[bigram] + 1\n",
    "    return language_dict\n",
    "\n",
    "def create_dictionary_bigram_letter(language):\n",
    "    language_dict = {}\n",
    "    for i in range(len(language) - 1):\n",
    "        bigram = language[i] + language[i + 1]\n",
    "        if bigram not in language_dict:\n",
    "            language_dict[bigram] = 1\n",
    "        else:\n",
    "            language_dict[bigram] = language_dict[bigram] + 1\n",
    "    return language_dict\n",
    "        "
   ]
  },
  {
   "cell_type": "code",
   "execution_count": 4,
   "metadata": {},
   "outputs": [],
   "source": [
    "def check_correct(dictionary, sentence):\n",
    "    corrects = 0\n",
    "    sentence = re.sub(\"[^\\w]\", \" \", sentence).split()\n",
    "    for i in range(len(sentence) - 1):\n",
    "        bigram = sentence[i] + ' ' + sentence[i + 1]\n",
    "        if bigram in dictionary.keys():\n",
    "            corrects = corrects + dictionary[bigram]\n",
    "    return corrects"
   ]
  },
  {
   "cell_type": "code",
   "execution_count": 5,
   "metadata": {},
   "outputs": [],
   "source": [
    "def save2txt(dictionary, name):\n",
    "    file = open(name, \"w\")\n",
    "    for i in dictionary:\n",
    "        text2w = i + \" \" + str(dictionary[i]) + \"\\n\"\n",
    "        file.write(text2w)"
   ]
  },
  {
   "cell_type": "code",
   "execution_count": 16,
   "metadata": {},
   "outputs": [],
   "source": [
    "polish_dictionary = create_dictionary_bigram(polish)\n",
    "english_dictionary = create_dictionary_bigram(english)\n",
    "spanish_dictionary = create_dictionary_bigram(spanish)\n",
    "italian_dictionary = create_dictionary_bigram(italian)"
   ]
  },
  {
   "cell_type": "code",
   "execution_count": 7,
   "metadata": {},
   "outputs": [],
   "source": [
    "polish_dictionary_let = create_dictionary_bigram_letter(polish)\n",
    "english_dictionary_let = create_dictionary_bigram_letter(english)\n",
    "spanish_dictionary_let = create_dictionary_bigram_letter(spanish)\n",
    "italian_dictionary_let = create_dictionary_bigram_letter(italian)"
   ]
  },
  {
   "cell_type": "code",
   "execution_count": 17,
   "metadata": {},
   "outputs": [
    {
     "name": "stdout",
     "output_type": "stream",
     "text": [
      "Polish:  1\n",
      "English:  0\n",
      "Spanish:  0\n",
      "Italian:  0\n"
     ]
    }
   ],
   "source": [
    "text_to_check = \"jak masz na imię\".lower()\n",
    "print(\"Polish: \", check_correct(polish_dictionary, text_to_check))\n",
    "print(\"English: \", check_correct(english_dictionary, text_to_check))\n",
    "print(\"Spanish: \", check_correct(spanish_dictionary, text_to_check))\n",
    "print(\"Italian: \", check_correct(italian_dictionary, text_to_check))"
   ]
  },
  {
   "cell_type": "code",
   "execution_count": 47,
   "metadata": {},
   "outputs": [],
   "source": [
    "# saving polish dict\n",
    "save2txt(polish_dictionary, language_dictionary + \"polish2cpp.txt\")\n",
    "#sacing english dict\n",
    "save2txt(english_dictionary, language_dictionary + \"english2cpp.txt\")\n",
    "#saving spanish dict\n",
    "save2txt(spanish_dictionary, language_dictionary + \"spanish2cpp.txt\")\n",
    "#saving italian dict\n",
    "save2txt(italian_dictionary, language_dictionary + \"italian2cpp.txt\")\n",
    "    "
   ]
  },
  {
   "cell_type": "code",
   "execution_count": 9,
   "metadata": {},
   "outputs": [],
   "source": [
    "#saving to txt\n",
    "save2txt(polish_dictionary_let, language_dictionary + \"polish2cpp_let.txt\")\n",
    "save2txt(english_dictionary_let, language_dictionary + \"english2cpp_let.txt\")\n",
    "save2txt(spanish_dictionary_let, language_dictionary + \"spanish2cpp_let.txt\")\n",
    "save2txt(italian_dictionary_let, language_dictionary + \"italian2cpp_let.txt\")"
   ]
  }
 ],
 "metadata": {
  "kernelspec": {
   "display_name": "Python 3",
   "language": "python",
   "name": "python3"
  },
  "language_info": {
   "codemirror_mode": {
    "name": "ipython",
    "version": 3
   },
   "file_extension": ".py",
   "mimetype": "text/x-python",
   "name": "python",
   "nbconvert_exporter": "python",
   "pygments_lexer": "ipython3",
   "version": "3.6.5"
  }
 },
 "nbformat": 4,
 "nbformat_minor": 2
}
