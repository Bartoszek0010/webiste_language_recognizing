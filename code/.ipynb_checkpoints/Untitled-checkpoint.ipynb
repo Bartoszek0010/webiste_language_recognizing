{
 "cells": [
  {
   "cell_type": "code",
   "execution_count": 1,
   "metadata": {},
   "outputs": [],
   "source": [
    "import numpy as np\n",
    "import re"
   ]
  },
  {
   "cell_type": "code",
   "execution_count": 2,
   "metadata": {},
   "outputs": [],
   "source": [
    "project_dictionary = \"/Users/bjastrzebs002/Desktop/programming/Language_Recognizing_PO/\"\n",
    "polish_text = open(project_dictionary + \"languages/polski.txt\", \"r\")\n",
    "english_text = open(project_dictionary + \"languages/english.txt\", \"r\")\n",
    "polish = polish_text.read()\n",
    "english = english_text.read()\n",
    "\n"
   ]
  },
  {
   "cell_type": "code",
   "execution_count": 3,
   "metadata": {},
   "outputs": [],
   "source": [
    "def create_dictionary_unigram(language):\n",
    "    # function of creating dictionary of unigrams\n",
    "    #print(\"unigrams\")\n",
    "    language = re.sub(\"[^\\w]\", \" \",  language.lower()).split()\n",
    "    language_dict = {}\n",
    "    for i in language:\n",
    "        if i not in language_dict:\n",
    "            language_dict[i] = 1\n",
    "        else:\n",
    "            language_dict[i] = language_dict[i] + 1\n",
    "    return language_dict\n",
    "\n",
    "def create_dictionary_bigram(language):\n",
    "    # function of creating dictionary of bigrams\n",
    "    #print(\"bigrams\")\n",
    "    language = re.sub(\"[^\\w]\", \" \",  language.lower()).split()\n",
    "    language_dict = {}\n",
    "    for i in range(len(language) - 1):\n",
    "        bigram = language[i] + ' ' + language[i + 1]\n",
    "        if bigram not in language_dict:\n",
    "            language_dict[bigram] = 1\n",
    "        else:\n",
    "            language_dict[bigram] = language_dict[bigram] + 1\n",
    "    return language_dict\n"
   ]
  },
  {
   "cell_type": "code",
   "execution_count": 4,
   "metadata": {},
   "outputs": [],
   "source": [
    "def check_correct(dictionary, sentence):\n",
    "    corrects = 0\n",
    "    sentence = re.sub(\"[^\\w]\", \" \", sentence).split()\n",
    "    for i in range(len(sentence) - 1):\n",
    "        bigram = sentence[i] + ' ' + sentence[i + 1]\n",
    "        if bigram in dictionary.keys():\n",
    "            corrects = corrects + dictionary[bigram]\n",
    "    print(corrects)\n",
    "    return corrects"
   ]
  },
  {
   "cell_type": "code",
   "execution_count": 5,
   "metadata": {},
   "outputs": [],
   "source": [
    "polish_dictionary = create_dictionary_bigram(polish)\n",
    "english_dictionary = create_dictionary_bigram(english)\n"
   ]
  },
  {
   "cell_type": "code",
   "execution_count": 6,
   "metadata": {},
   "outputs": [
    {
     "name": "stdout",
     "output_type": "stream",
     "text": [
      "0\n",
      "3\n",
      "English\n"
     ]
    }
   ],
   "source": [
    "text_to_check = \"Jak masz na imię?\".lower()\n",
    "text_to_check2 = \"Hey today is night.\".lower()\n",
    "if check_correct(polish_dictionary, text_to_check2) > check_correct(english_dictionary, text_to_check2):\n",
    "    print(\"Polish\")\n",
    "else:\n",
    "    print(\"English\")"
   ]
  },
  {
   "cell_type": "code",
   "execution_count": null,
   "metadata": {},
   "outputs": [],
   "source": []
  }
 ],
 "metadata": {
  "kernelspec": {
   "display_name": "Python 3",
   "language": "python",
   "name": "python3"
  },
  "language_info": {
   "codemirror_mode": {
    "name": "ipython",
    "version": 3
   },
   "file_extension": ".py",
   "mimetype": "text/x-python",
   "name": "python",
   "nbconvert_exporter": "python",
   "pygments_lexer": "ipython3",
   "version": "3.6.5"
  }
 },
 "nbformat": 4,
 "nbformat_minor": 2
}
